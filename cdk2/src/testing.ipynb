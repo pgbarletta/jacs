{
 "cells": [
  {
   "cell_type": "code",
   "metadata": {
    "ExecuteTime": {
     "end_time": "2025-02-10T21:42:55.768720Z",
     "start_time": "2025-02-10T21:42:55.762173Z"
    }
   },
   "source": [
    "from pathlib import Path\n",
    "from concurrent.futures import ProcessPoolExecutor\n",
    "import logging\n",
    "import sys\n",
    "\n",
    "from ligandparam.recipes import LazyLigand\n",
    "from ligandparam import __logging_name__ , __version__\n",
    "from rdkit import Chem\n",
    "from rdkit.Chem import AllChem, rdFMCS\n",
    "import MDAnalysis as mda\n",
    "\n",
    "home_dir = home_dir = Path(\"..\").resolve()\n",
    "data_dir = home_dir / \"data\"\n",
    "preparation_dir = data_dir / \"preparation\""
   ],
   "outputs": [],
   "execution_count": 17
  },
  {
   "metadata": {
    "ExecuteTime": {
     "end_time": "2025-02-10T22:04:55.795494Z",
     "start_time": "2025-02-10T22:04:55.792104Z"
    }
   },
   "cell_type": "code",
   "source": [
    "name = \"17\"\n",
    "target_dir = Path(preparation_dir, name)\n",
    "\n",
    "binder = Path(target_dir, f\"binder_{name}.pdb\")\n",
    "parametrized_binder = Path(target_dir, f\"parametrized_binder_{name}.pdb\")\n",
    "\n",
    "docked = Chem.MolFromPDBFile(str(binder), removeHs=False)\n",
    "minimized = Chem.MolFromPDBFile(str(parametrized_binder), removeHs=False)"
   ],
   "outputs": [],
   "execution_count": 19
  },
  {
   "metadata": {
    "ExecuteTime": {
     "end_time": "2025-02-10T22:08:37.630924Z",
     "start_time": "2025-02-10T22:08:37.624611Z"
    }
   },
   "cell_type": "code",
   "source": [
    "\n",
    "mcs = rdFMCS.FindMCS([docked, minimized])\n",
    "common_smarts = mcs.smartsString\n",
    "common_mol = Chem.MolFromSmarts(common_smarts)\n",
    "\n"
   ],
   "outputs": [],
   "execution_count": 26
  },
  {
   "metadata": {
    "ExecuteTime": {
     "end_time": "2025-02-10T22:10:15.078013Z",
     "start_time": "2025-02-10T22:10:15.074623Z"
    }
   },
   "cell_type": "code",
   "source": [
    "# Map the atoms to find the common atoms\n",
    "match1 = minimized.GetSubstructMatch(common_mol)\n",
    "match2 = docked.GetSubstructMatch(common_mol)\n",
    "\n",
    "# Align the molecules based on the common scaffold.\n",
    "AllChem.AlignMol(minimized, docked, atomMap=list(zip(match2, match1)))\n",
    "\n",
    "# Write the aligned ligand to a pdb file\n",
    "Chem.MolToPDB   File(minimized, target_dir/f\"aligned.pdb\")"
   ],
   "outputs": [],
   "execution_count": 29
  },
  {
   "metadata": {},
   "cell_type": "code",
   "outputs": [],
   "execution_count": null,
   "source": "Chem.MolFromMol2File(\"/home/pb777/reaf_check/jacs/cdk2/data/preparation/cdk2/17_0.mol2\")"
  },
  {
   "metadata": {
    "ExecuteTime": {
     "end_time": "2025-02-10T22:05:52.500713Z",
     "start_time": "2025-02-10T22:05:52.496016Z"
    }
   },
   "cell_type": "code",
   "source": "",
   "outputs": [],
   "execution_count": 22
  },
  {
   "metadata": {},
   "cell_type": "code",
   "outputs": [],
   "execution_count": null,
   "source": "Chem.MolToMolFile(a, \"/home/pb777/reaf_check/jacs/cdk2/data/preparation/binder_17.pdb\")"
  },
  {
   "metadata": {
    "ExecuteTime": {
     "end_time": "2025-01-30T18:28:21.542184Z",
     "start_time": "2025-01-30T18:28:21.537087Z"
    }
   },
   "cell_type": "code",
   "source": [
    "def set_file_logger(logfilename: Path, logname: str = None, filemode: str = 'a') -> logging.Logger:\n",
    "    if logname is None:\n",
    "        logname = Path(logfilename).stem\n",
    "    logger = logging.getLogger(logname)\n",
    "    logger.setLevel(logging.INFO)\n",
    "    formatter = logging.Formatter(\n",
    "        \"{asctime} - {levelname} - {version} {message}\",\n",
    "        style=\"{\",\n",
    "        datefmt=\"%Y-%m-%d %H:%M:%S\",\n",
    "        defaults={\"version\": __version__},\n",
    "    )\n",
    "    file_handler = logging.FileHandler(filename=logfilename, mode=filemode)\n",
    "    file_handler.setLevel(logging.INFO)\n",
    "    file_handler.setFormatter(formatter)\n",
    "    logger.addHandler(file_handler)\n",
    "\n",
    "    return logger\n",
    "\n",
    "def set_stdout_logger(logger_name: str) -> logging.Logger:\n",
    "    logger = logging.getLogger(logger_name)\n",
    "    logger.setLevel(logging.INFO)  # Set the root logger level to DEBUG\n",
    "\n",
    "    formatter = logging.Formatter(\n",
    "        \"{asctime} - {levelname} - {version} {message}\",\n",
    "        style=\"{\",\n",
    "        datefmt=\"%Y-%m-%d %H:%M:%S\",\n",
    "        defaults={\"version\": \"\"},\n",
    "    )\n",
    "\n",
    "    stream_handler = logging.StreamHandler(sys.stdout)\n",
    "    stream_handler.setLevel(logging.INFO)\n",
    "    stream_handler.setFormatter(formatter)\n",
    "    logger.addHandler(stream_handler)\n",
    "\n",
    "    return logger\n",
    "\n",
    "gaussian_paths = {\n",
    "    \"gaussian_root\": \"/home/pb777/GAUSSIAN\",\n",
    "    \"gauss_exedir\": \"/home/pb777/GAUSSIAN/g16/bsd:/home/pb777/GAUSSIAN/g16\",\n",
    "    \"gaussian_binary\": \"/home/pb777/GAUSSIAN/g16/g16\",\n",
    "    \"gaussian_scratch\": \"/home/pb777/GAUSSIAN/g16/scratch\",\n",
    "}"
   ],
   "outputs": [],
   "execution_count": 2
  },
  {
   "metadata": {
    "ExecuteTime": {
     "end_time": "2025-02-03T16:32:06.759571Z",
     "start_time": "2025-02-03T16:32:06.756417Z"
    }
   },
   "cell_type": "code",
   "source": "round((9.65 + 10.92 + 12.09 + 11.52) / 4, 2)",
   "outputs": [
    {
     "data": {
      "text/plain": [
       "11.04"
      ]
     },
     "execution_count": 4,
     "metadata": {},
     "output_type": "execute_result"
    }
   ],
   "execution_count": 4
  },
  {
   "metadata": {
    "ExecuteTime": {
     "end_time": "2025-02-03T16:32:59.430809Z",
     "start_time": "2025-02-03T16:32:59.427208Z"
    }
   },
   "cell_type": "code",
   "source": "14:28:07",
   "outputs": [
    {
     "data": {
      "text/plain": [
       "31.09"
      ]
     },
     "execution_count": 5,
     "metadata": {},
     "output_type": "execute_result"
    }
   ],
   "execution_count": 5
  },
  {
   "metadata": {
    "ExecuteTime": {
     "end_time": "2025-01-30T18:31:13.693769Z",
     "start_time": "2025-01-30T18:31:13.675261Z"
    }
   },
   "cell_type": "code",
   "source": [
    "def worker(node, data_cwd, gaussian_paths):\n",
    "    cpx_dir = data_cwd / node\n",
    "    binder_path = Path(cpx_dir, f\"binder_{node}.pdb\")\n",
    "    logger = set_file_logger(cpx_dir / f\"{node}.log\")\n",
    "    parametrize_ligand = LazyLigand(in_filename= binder_path, cwd=cpx_dir, logger=logger, net_charge=0, nproc=2,\n",
    "                                    atom_type = \"gaff2\", mem=1024, **gaussian_paths)\n",
    "    parametrize_ligand.setup()\n",
    "    parametrize_ligand.execute(dry_run=False)"
   ],
   "outputs": [],
   "execution_count": 12
  },
  {
   "cell_type": "code",
   "metadata": {
    "ExecuteTime": {
     "start_time": "2025-01-30T18:31:14.866497Z"
    }
   },
   "source": [
    "binders = [\"17\", \"1h1q\", \"1h1r\", \"1h1s\", \"1oi9\", \"1oiu\", \"1oiy\", \"20\", \"21\", \"22\", \"26\", \"28\", \"29\", \"30\", \"31\", \"32\"]\n",
    "data_cwd = Path(\"/home/pb777/reaf_check/jacs/cdk2/data\")\n",
    "\n",
    "with ProcessPoolExecutor(max_workers=32) as ex:\n",
    "    futuros = {}\n",
    "    for binder in binders:\n",
    "        futu = ex.submit(worker, binder, data_cwd, gaussian_paths)\n",
    "        futuros[binder] = futu\n",
    "\n",
    "    for node, futu in futuros.items():\n",
    "        print(f\"Waiting for {node}\")\n",
    "        futu.result()"
   ],
   "outputs": [
    {
     "name": "stdout",
     "output_type": "stream",
     "text": [
      "Waiting for 17\n"
     ]
    }
   ],
   "execution_count": null
  },
  {
   "cell_type": "code",
   "metadata": {
    "ExecuteTime": {
     "end_time": "2025-01-30T18:30:58.959208Z",
     "start_time": "2025-01-30T18:30:58.953550Z"
    }
   },
   "source": "len(binders)",
   "outputs": [
    {
     "data": {
      "text/plain": [
       "16"
      ]
     },
     "execution_count": 11,
     "metadata": {},
     "output_type": "execute_result"
    }
   ],
   "execution_count": 11
  }
 ],
 "metadata": {
  "kernelspec": {
   "display_name": "devamber",
   "language": "python",
   "name": "python3"
  },
  "language_info": {
   "codemirror_mode": {
    "name": "ipython",
    "version": 3
   },
   "file_extension": ".py",
   "mimetype": "text/x-python",
   "name": "python",
   "nbconvert_exporter": "python",
   "pygments_lexer": "ipython3",
   "version": "3.10.15"
  }
 },
 "nbformat": 4,
 "nbformat_minor": 2
}
